{
 "cells": [
  {
   "cell_type": "markdown",
   "metadata": {},
   "source": [
    "# tensorflow playground!\n",
    "# we will write our own classifier"
   ]
  },
  {
   "cell_type": "code",
   "execution_count": 24,
   "metadata": {},
   "outputs": [],
   "source": [
    "from sklearn import datasets\n",
    "iris= datasets.load_iris()\n",
    "X = iris.data\n",
    "y = iris.target\n",
    "from sklearn.model_selection import train_test_split\n",
    "X_train, X_test, y_train, y_test = train_test_split(X,y, test_size = 0.2)"
   ]
  },
  {
   "cell_type": "code",
   "execution_count": 25,
   "metadata": {},
   "outputs": [],
   "source": [
    "# #we will write our own classifer here (random classifier here, works!)\n",
    "# import random\n",
    "# class myKnn:\n",
    "#     def fit(self, X_train, y_train):\n",
    "#         self.X_train = X_train\n",
    "#         self. y_train = y_train\n",
    "#     def predict(self, X_test):\n",
    "#         prediction = []\n",
    "#         for i in X_test:\n",
    "#             rand_label = random.choice(self.y_train)\n",
    "#             prediction.append(rand_label)\n",
    "#         return prediction"
   ]
  },
  {
   "cell_type": "code",
   "execution_count": 26,
   "metadata": {},
   "outputs": [],
   "source": [
    "#we will write our own classifer here\n",
    "from scipy.spatial import distance\n",
    "\n",
    "def euc(a,b):\n",
    "    return distance.euclidean(a,b)\n",
    "class myKnn:\n",
    "    def fit(self, X_train, y_train):\n",
    "        self.X_train = X_train\n",
    "        self.y_train = y_train\n",
    "    def predict(self, X_test):\n",
    "        prediction = []\n",
    "        for i in X_test:\n",
    "            label = self.closest(i)\n",
    "            prediction.append(label)\n",
    "        return (prediction)\n",
    "    def closest(self, i):\n",
    "        best_dist = euc(i, self.X_train[0])\n",
    "        best_idx = 0\n",
    "        for row in range(1, len(self.X_train)):\n",
    "            dist = euc(i, self.X_train[row])\n",
    "            if dist < best_dist:\n",
    "                best_dist = dist\n",
    "                best_idx = row\n",
    "        return self.y_train[best_idx]"
   ]
  },
  {
   "cell_type": "code",
   "execution_count": 27,
   "metadata": {},
   "outputs": [],
   "source": [
    "#instantiate the classifier\n",
    "my_classifier = myKnn()"
   ]
  },
  {
   "cell_type": "code",
   "execution_count": 28,
   "metadata": {},
   "outputs": [
    {
     "name": "stdout",
     "output_type": "stream",
     "text": [
      "0.9666666666666667\n"
     ]
    }
   ],
   "source": [
    "my_classifier.fit(X_train, y_train)\n",
    "prediction = my_classifier.predict(X_test)\n",
    "from sklearn.metrics import accuracy_score\n",
    "print(accuracy_score(y_test, prediction))"
   ]
  },
  {
   "cell_type": "code",
   "execution_count": null,
   "metadata": {},
   "outputs": [],
   "source": []
  }
 ],
 "metadata": {
  "kernelspec": {
   "display_name": "Python 3",
   "language": "python",
   "name": "python3"
  },
  "language_info": {
   "codemirror_mode": {
    "name": "ipython",
    "version": 3
   },
   "file_extension": ".py",
   "mimetype": "text/x-python",
   "name": "python",
   "nbconvert_exporter": "python",
   "pygments_lexer": "ipython3",
   "version": "3.7.6"
  }
 },
 "nbformat": 4,
 "nbformat_minor": 4
}
